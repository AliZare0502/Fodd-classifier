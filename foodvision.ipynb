{
  "nbformat": 4,
  "nbformat_minor": 0,
  "metadata": {
    "colab": {
      "provenance": [],
      "gpuType": "T4"
    },
    "kernelspec": {
      "name": "python3",
      "display_name": "Python 3"
    },
    "language_info": {
      "name": "python"
    },
    "accelerator": "GPU",
    "widgets": {
      "application/vnd.jupyter.widget-state+json": {
        "3298a0516c0049c89f37301d49167820": {
          "model_module": "@jupyter-widgets/controls",
          "model_name": "HBoxModel",
          "model_module_version": "1.5.0",
          "state": {
            "_dom_classes": [],
            "_model_module": "@jupyter-widgets/controls",
            "_model_module_version": "1.5.0",
            "_model_name": "HBoxModel",
            "_view_count": null,
            "_view_module": "@jupyter-widgets/controls",
            "_view_module_version": "1.5.0",
            "_view_name": "HBoxView",
            "box_style": "",
            "children": [
              "IPY_MODEL_98baac3854f84a35a2569ee1c70dee41",
              "IPY_MODEL_ddf57407385540f7b1406b3a6a457478",
              "IPY_MODEL_f28661e2308d432c99ee3ac11f793ee7"
            ],
            "layout": "IPY_MODEL_317093c93165461a96e55a2721d8d5b5"
          }
        },
        "98baac3854f84a35a2569ee1c70dee41": {
          "model_module": "@jupyter-widgets/controls",
          "model_name": "HTMLModel",
          "model_module_version": "1.5.0",
          "state": {
            "_dom_classes": [],
            "_model_module": "@jupyter-widgets/controls",
            "_model_module_version": "1.5.0",
            "_model_name": "HTMLModel",
            "_view_count": null,
            "_view_module": "@jupyter-widgets/controls",
            "_view_module_version": "1.5.0",
            "_view_name": "HTMLView",
            "description": "",
            "description_tooltip": null,
            "layout": "IPY_MODEL_7536a22f115746d7a137f41fd2d23187",
            "placeholder": "​",
            "style": "IPY_MODEL_67e92d20a2bd4675a05e4d1f4d8fe5d1",
            "value": "100%"
          }
        },
        "ddf57407385540f7b1406b3a6a457478": {
          "model_module": "@jupyter-widgets/controls",
          "model_name": "FloatProgressModel",
          "model_module_version": "1.5.0",
          "state": {
            "_dom_classes": [],
            "_model_module": "@jupyter-widgets/controls",
            "_model_module_version": "1.5.0",
            "_model_name": "FloatProgressModel",
            "_view_count": null,
            "_view_module": "@jupyter-widgets/controls",
            "_view_module_version": "1.5.0",
            "_view_name": "ProgressView",
            "bar_style": "success",
            "description": "",
            "description_tooltip": null,
            "layout": "IPY_MODEL_c0763d87c922403aadded18e0e45fd89",
            "max": 10,
            "min": 0,
            "orientation": "horizontal",
            "style": "IPY_MODEL_737f81ec3c484ac3b3153784242aa834",
            "value": 10
          }
        },
        "f28661e2308d432c99ee3ac11f793ee7": {
          "model_module": "@jupyter-widgets/controls",
          "model_name": "HTMLModel",
          "model_module_version": "1.5.0",
          "state": {
            "_dom_classes": [],
            "_model_module": "@jupyter-widgets/controls",
            "_model_module_version": "1.5.0",
            "_model_name": "HTMLModel",
            "_view_count": null,
            "_view_module": "@jupyter-widgets/controls",
            "_view_module_version": "1.5.0",
            "_view_name": "HTMLView",
            "description": "",
            "description_tooltip": null,
            "layout": "IPY_MODEL_11ed21f9db7e4ebfbed8adead9fa57d4",
            "placeholder": "​",
            "style": "IPY_MODEL_015192130f744adf9e47ffc3a99d697c",
            "value": " 10/10 [1:04:21&lt;00:00, 379.93s/it]"
          }
        },
        "317093c93165461a96e55a2721d8d5b5": {
          "model_module": "@jupyter-widgets/base",
          "model_name": "LayoutModel",
          "model_module_version": "1.2.0",
          "state": {
            "_model_module": "@jupyter-widgets/base",
            "_model_module_version": "1.2.0",
            "_model_name": "LayoutModel",
            "_view_count": null,
            "_view_module": "@jupyter-widgets/base",
            "_view_module_version": "1.2.0",
            "_view_name": "LayoutView",
            "align_content": null,
            "align_items": null,
            "align_self": null,
            "border": null,
            "bottom": null,
            "display": null,
            "flex": null,
            "flex_flow": null,
            "grid_area": null,
            "grid_auto_columns": null,
            "grid_auto_flow": null,
            "grid_auto_rows": null,
            "grid_column": null,
            "grid_gap": null,
            "grid_row": null,
            "grid_template_areas": null,
            "grid_template_columns": null,
            "grid_template_rows": null,
            "height": null,
            "justify_content": null,
            "justify_items": null,
            "left": null,
            "margin": null,
            "max_height": null,
            "max_width": null,
            "min_height": null,
            "min_width": null,
            "object_fit": null,
            "object_position": null,
            "order": null,
            "overflow": null,
            "overflow_x": null,
            "overflow_y": null,
            "padding": null,
            "right": null,
            "top": null,
            "visibility": null,
            "width": null
          }
        },
        "7536a22f115746d7a137f41fd2d23187": {
          "model_module": "@jupyter-widgets/base",
          "model_name": "LayoutModel",
          "model_module_version": "1.2.0",
          "state": {
            "_model_module": "@jupyter-widgets/base",
            "_model_module_version": "1.2.0",
            "_model_name": "LayoutModel",
            "_view_count": null,
            "_view_module": "@jupyter-widgets/base",
            "_view_module_version": "1.2.0",
            "_view_name": "LayoutView",
            "align_content": null,
            "align_items": null,
            "align_self": null,
            "border": null,
            "bottom": null,
            "display": null,
            "flex": null,
            "flex_flow": null,
            "grid_area": null,
            "grid_auto_columns": null,
            "grid_auto_flow": null,
            "grid_auto_rows": null,
            "grid_column": null,
            "grid_gap": null,
            "grid_row": null,
            "grid_template_areas": null,
            "grid_template_columns": null,
            "grid_template_rows": null,
            "height": null,
            "justify_content": null,
            "justify_items": null,
            "left": null,
            "margin": null,
            "max_height": null,
            "max_width": null,
            "min_height": null,
            "min_width": null,
            "object_fit": null,
            "object_position": null,
            "order": null,
            "overflow": null,
            "overflow_x": null,
            "overflow_y": null,
            "padding": null,
            "right": null,
            "top": null,
            "visibility": null,
            "width": null
          }
        },
        "67e92d20a2bd4675a05e4d1f4d8fe5d1": {
          "model_module": "@jupyter-widgets/controls",
          "model_name": "DescriptionStyleModel",
          "model_module_version": "1.5.0",
          "state": {
            "_model_module": "@jupyter-widgets/controls",
            "_model_module_version": "1.5.0",
            "_model_name": "DescriptionStyleModel",
            "_view_count": null,
            "_view_module": "@jupyter-widgets/base",
            "_view_module_version": "1.2.0",
            "_view_name": "StyleView",
            "description_width": ""
          }
        },
        "c0763d87c922403aadded18e0e45fd89": {
          "model_module": "@jupyter-widgets/base",
          "model_name": "LayoutModel",
          "model_module_version": "1.2.0",
          "state": {
            "_model_module": "@jupyter-widgets/base",
            "_model_module_version": "1.2.0",
            "_model_name": "LayoutModel",
            "_view_count": null,
            "_view_module": "@jupyter-widgets/base",
            "_view_module_version": "1.2.0",
            "_view_name": "LayoutView",
            "align_content": null,
            "align_items": null,
            "align_self": null,
            "border": null,
            "bottom": null,
            "display": null,
            "flex": null,
            "flex_flow": null,
            "grid_area": null,
            "grid_auto_columns": null,
            "grid_auto_flow": null,
            "grid_auto_rows": null,
            "grid_column": null,
            "grid_gap": null,
            "grid_row": null,
            "grid_template_areas": null,
            "grid_template_columns": null,
            "grid_template_rows": null,
            "height": null,
            "justify_content": null,
            "justify_items": null,
            "left": null,
            "margin": null,
            "max_height": null,
            "max_width": null,
            "min_height": null,
            "min_width": null,
            "object_fit": null,
            "object_position": null,
            "order": null,
            "overflow": null,
            "overflow_x": null,
            "overflow_y": null,
            "padding": null,
            "right": null,
            "top": null,
            "visibility": null,
            "width": null
          }
        },
        "737f81ec3c484ac3b3153784242aa834": {
          "model_module": "@jupyter-widgets/controls",
          "model_name": "ProgressStyleModel",
          "model_module_version": "1.5.0",
          "state": {
            "_model_module": "@jupyter-widgets/controls",
            "_model_module_version": "1.5.0",
            "_model_name": "ProgressStyleModel",
            "_view_count": null,
            "_view_module": "@jupyter-widgets/base",
            "_view_module_version": "1.2.0",
            "_view_name": "StyleView",
            "bar_color": null,
            "description_width": ""
          }
        },
        "11ed21f9db7e4ebfbed8adead9fa57d4": {
          "model_module": "@jupyter-widgets/base",
          "model_name": "LayoutModel",
          "model_module_version": "1.2.0",
          "state": {
            "_model_module": "@jupyter-widgets/base",
            "_model_module_version": "1.2.0",
            "_model_name": "LayoutModel",
            "_view_count": null,
            "_view_module": "@jupyter-widgets/base",
            "_view_module_version": "1.2.0",
            "_view_name": "LayoutView",
            "align_content": null,
            "align_items": null,
            "align_self": null,
            "border": null,
            "bottom": null,
            "display": null,
            "flex": null,
            "flex_flow": null,
            "grid_area": null,
            "grid_auto_columns": null,
            "grid_auto_flow": null,
            "grid_auto_rows": null,
            "grid_column": null,
            "grid_gap": null,
            "grid_row": null,
            "grid_template_areas": null,
            "grid_template_columns": null,
            "grid_template_rows": null,
            "height": null,
            "justify_content": null,
            "justify_items": null,
            "left": null,
            "margin": null,
            "max_height": null,
            "max_width": null,
            "min_height": null,
            "min_width": null,
            "object_fit": null,
            "object_position": null,
            "order": null,
            "overflow": null,
            "overflow_x": null,
            "overflow_y": null,
            "padding": null,
            "right": null,
            "top": null,
            "visibility": null,
            "width": null
          }
        },
        "015192130f744adf9e47ffc3a99d697c": {
          "model_module": "@jupyter-widgets/controls",
          "model_name": "DescriptionStyleModel",
          "model_module_version": "1.5.0",
          "state": {
            "_model_module": "@jupyter-widgets/controls",
            "_model_module_version": "1.5.0",
            "_model_name": "DescriptionStyleModel",
            "_view_count": null,
            "_view_module": "@jupyter-widgets/base",
            "_view_module_version": "1.2.0",
            "_view_name": "StyleView",
            "description_width": ""
          }
        }
      }
    }
  },
  "cells": [
    {
      "cell_type": "code",
      "execution_count": 1,
      "metadata": {
        "colab": {
          "base_uri": "https://localhost:8080/"
        },
        "id": "8Q8ThwEWX6yW",
        "outputId": "8d7f2cfe-ab2f-45b4-8fb7-dcf07e0737c3"
      },
      "outputs": [
        {
          "output_type": "stream",
          "name": "stdout",
          "text": [
            "Collecting torchinfo\n",
            "  Downloading torchinfo-1.8.0-py3-none-any.whl.metadata (21 kB)\n",
            "Downloading torchinfo-1.8.0-py3-none-any.whl (23 kB)\n",
            "Installing collected packages: torchinfo\n",
            "Successfully installed torchinfo-1.8.0\n"
          ]
        }
      ],
      "source": [
        "import torch\n",
        "import torchvision\n",
        "import os\n",
        "from pathlib import Path\n",
        "try :\n",
        "    import torchinfo\n",
        "except:\n",
        "    !pip install torchinfo\n",
        "\n",
        "from torchinfo import summary\n",
        "import glob"
      ]
    },
    {
      "cell_type": "code",
      "source": [
        "try:\n",
        "    from going_modular.going_modular import data_setup, engine\n",
        "except:\n",
        "    # Get the going_modular scripts\n",
        "    print(\"[INFO] Couldn't find going_modular scripts... downloading them from GitHub.\")\n",
        "    !git clone https://github.com/mrdbourke/pytorch-deep-learning\n",
        "    !mv pytorch-deep-learning/going_modular .\n",
        "    !rm -rf pytorch-deep-learning\n",
        "    from going_modular.going_modular import data_setup, engine"
      ],
      "metadata": {
        "colab": {
          "base_uri": "https://localhost:8080/"
        },
        "id": "QXfUu0c8rzTD",
        "outputId": "48e104ea-48da-49f4-db0c-5821022ae89f"
      },
      "execution_count": 2,
      "outputs": [
        {
          "output_type": "stream",
          "name": "stdout",
          "text": [
            "[INFO] Couldn't find going_modular scripts... downloading them from GitHub.\n",
            "Cloning into 'pytorch-deep-learning'...\n",
            "remote: Enumerating objects: 4056, done.\u001b[K\n",
            "remote: Total 4056 (delta 0), reused 0 (delta 0), pack-reused 4056\u001b[K\n",
            "Receiving objects: 100% (4056/4056), 646.90 MiB | 30.25 MiB/s, done.\n",
            "Resolving deltas: 100% (2371/2371), done.\n",
            "Updating files: 100% (248/248), done.\n"
          ]
        }
      ]
    },
    {
      "cell_type": "code",
      "source": [
        "device='cuda' if torch.cuda.is_available() else 'cpu'\n",
        "device"
      ],
      "metadata": {
        "colab": {
          "base_uri": "https://localhost:8080/",
          "height": 36
        },
        "id": "7-B3L-sOfDtA",
        "outputId": "94903938-0ed0-4369-ad8c-6fb6c9f64043"
      },
      "execution_count": 3,
      "outputs": [
        {
          "output_type": "execute_result",
          "data": {
            "text/plain": [
              "'cuda'"
            ],
            "application/vnd.google.colaboratory.intrinsic+json": {
              "type": "string"
            }
          },
          "metadata": {},
          "execution_count": 3
        }
      ]
    },
    {
      "cell_type": "code",
      "source": [
        "weights=torchvision.models.EfficientNet_V2_M_Weights.DEFAULT\n",
        "effnet_v2_m_transformer=torchvision.models.EfficientNet_V2_M_Weights.IMAGENET1K_V1.transforms\n",
        "effnet_v2_m=torchvision.models.efficientnet_v2_m(weights=weights).to(device)"
      ],
      "metadata": {
        "colab": {
          "base_uri": "https://localhost:8080/"
        },
        "id": "wphj1T0Ne4KK",
        "outputId": "7bd207c5-4bcc-4243-afb4-bde97c4f7032"
      },
      "execution_count": 4,
      "outputs": [
        {
          "output_type": "stream",
          "name": "stderr",
          "text": [
            "Downloading: \"https://download.pytorch.org/models/efficientnet_v2_m-dc08266a.pth\" to /root/.cache/torch/hub/checkpoints/efficientnet_v2_m-dc08266a.pth\n",
            "100%|██████████| 208M/208M [00:02<00:00, 103MB/s]\n"
          ]
        }
      ]
    },
    {
      "cell_type": "code",
      "source": [
        "data_dir=Path('/data')\n",
        "train_dir=torchvision.datasets.Food101(root=data_dir,split='train',transform=effnet_v2_m_transformer,download=True)\n",
        "test_dir=torchvision.datasets.Food101(root=data_dir,split='test',transform=effnet_v2_m_transformer,download=True)"
      ],
      "metadata": {
        "colab": {
          "base_uri": "https://localhost:8080/"
        },
        "id": "ZzNXK9oNfwwY",
        "outputId": "ac80014b-e5e6-45ff-c421-a2c0f11bdef3"
      },
      "execution_count": 5,
      "outputs": [
        {
          "output_type": "stream",
          "name": "stdout",
          "text": [
            "Downloading https://data.vision.ee.ethz.ch/cvl/food-101.tar.gz to /data/food-101.tar.gz\n"
          ]
        },
        {
          "output_type": "stream",
          "name": "stderr",
          "text": [
            "100%|██████████| 4996278331/4996278331 [02:55<00:00, 28501981.37it/s]\n"
          ]
        },
        {
          "output_type": "stream",
          "name": "stdout",
          "text": [
            "Extracting /data/food-101.tar.gz to /data\n"
          ]
        }
      ]
    },
    {
      "cell_type": "code",
      "source": [
        "summary(model=effnet_v2_m,\n",
        "        input_size=(32, 3, 480, 480), # make sure this is \"input_size\", not \"input_shape\"\n",
        "        # col_names=[\"input_size\"], # uncomment for smaller output\n",
        "        col_names=[\"input_size\", \"output_size\", \"num_params\", \"trainable\"],\n",
        "        col_width=20,\n",
        "        row_settings=[\"var_names\"])"
      ],
      "metadata": {
        "colab": {
          "base_uri": "https://localhost:8080/"
        },
        "id": "IjdiA6Fygbvq",
        "outputId": "028a1ac5-949f-4cb8-bbcd-b01aad4a5936"
      },
      "execution_count": 6,
      "outputs": [
        {
          "output_type": "execute_result",
          "data": {
            "text/plain": [
              "============================================================================================================================================\n",
              "Layer (type (var_name))                                      Input Shape          Output Shape         Param #              Trainable\n",
              "============================================================================================================================================\n",
              "EfficientNet (EfficientNet)                                  [32, 3, 480, 480]    [32, 1000]           --                   True\n",
              "├─Sequential (features)                                      [32, 3, 480, 480]    [32, 1280, 15, 15]   --                   True\n",
              "│    └─Conv2dNormActivation (0)                              [32, 3, 480, 480]    [32, 24, 240, 240]   --                   True\n",
              "│    │    └─Conv2d (0)                                       [32, 3, 480, 480]    [32, 24, 240, 240]   648                  True\n",
              "│    │    └─BatchNorm2d (1)                                  [32, 24, 240, 240]   [32, 24, 240, 240]   48                   True\n",
              "│    │    └─SiLU (2)                                         [32, 24, 240, 240]   [32, 24, 240, 240]   --                   --\n",
              "│    └─Sequential (1)                                        [32, 24, 240, 240]   [32, 24, 240, 240]   --                   True\n",
              "│    │    └─FusedMBConv (0)                                  [32, 24, 240, 240]   [32, 24, 240, 240]   5,232                True\n",
              "│    │    └─FusedMBConv (1)                                  [32, 24, 240, 240]   [32, 24, 240, 240]   5,232                True\n",
              "│    │    └─FusedMBConv (2)                                  [32, 24, 240, 240]   [32, 24, 240, 240]   5,232                True\n",
              "│    └─Sequential (2)                                        [32, 24, 240, 240]   [32, 48, 120, 120]   --                   True\n",
              "│    │    └─FusedMBConv (0)                                  [32, 24, 240, 240]   [32, 48, 120, 120]   25,632               True\n",
              "│    │    └─FusedMBConv (1)                                  [32, 48, 120, 120]   [32, 48, 120, 120]   92,640               True\n",
              "│    │    └─FusedMBConv (2)                                  [32, 48, 120, 120]   [32, 48, 120, 120]   92,640               True\n",
              "│    │    └─FusedMBConv (3)                                  [32, 48, 120, 120]   [32, 48, 120, 120]   92,640               True\n",
              "│    │    └─FusedMBConv (4)                                  [32, 48, 120, 120]   [32, 48, 120, 120]   92,640               True\n",
              "│    └─Sequential (3)                                        [32, 48, 120, 120]   [32, 80, 60, 60]     --                   True\n",
              "│    │    └─FusedMBConv (0)                                  [32, 48, 120, 120]   [32, 80, 60, 60]     98,848               True\n",
              "│    │    └─FusedMBConv (1)                                  [32, 80, 60, 60]     [32, 80, 60, 60]     256,800              True\n",
              "│    │    └─FusedMBConv (2)                                  [32, 80, 60, 60]     [32, 80, 60, 60]     256,800              True\n",
              "│    │    └─FusedMBConv (3)                                  [32, 80, 60, 60]     [32, 80, 60, 60]     256,800              True\n",
              "│    │    └─FusedMBConv (4)                                  [32, 80, 60, 60]     [32, 80, 60, 60]     256,800              True\n",
              "│    └─Sequential (4)                                        [32, 80, 60, 60]     [32, 160, 30, 30]    --                   True\n",
              "│    │    └─MBConv (0)                                       [32, 80, 60, 60]     [32, 160, 30, 30]    94,420               True\n",
              "│    │    └─MBConv (1)                                       [32, 160, 30, 30]    [32, 160, 30, 30]    265,320              True\n",
              "│    │    └─MBConv (2)                                       [32, 160, 30, 30]    [32, 160, 30, 30]    265,320              True\n",
              "│    │    └─MBConv (3)                                       [32, 160, 30, 30]    [32, 160, 30, 30]    265,320              True\n",
              "│    │    └─MBConv (4)                                       [32, 160, 30, 30]    [32, 160, 30, 30]    265,320              True\n",
              "│    │    └─MBConv (5)                                       [32, 160, 30, 30]    [32, 160, 30, 30]    265,320              True\n",
              "│    │    └─MBConv (6)                                       [32, 160, 30, 30]    [32, 160, 30, 30]    265,320              True\n",
              "│    └─Sequential (5)                                        [32, 160, 30, 30]    [32, 176, 30, 30]    --                   True\n",
              "│    │    └─MBConv (0)                                       [32, 160, 30, 30]    [32, 176, 30, 30]    413,192              True\n",
              "│    │    └─MBConv (1)                                       [32, 176, 30, 30]    [32, 176, 30, 30]    479,820              True\n",
              "│    │    └─MBConv (2)                                       [32, 176, 30, 30]    [32, 176, 30, 30]    479,820              True\n",
              "│    │    └─MBConv (3)                                       [32, 176, 30, 30]    [32, 176, 30, 30]    479,820              True\n",
              "│    │    └─MBConv (4)                                       [32, 176, 30, 30]    [32, 176, 30, 30]    479,820              True\n",
              "│    │    └─MBConv (5)                                       [32, 176, 30, 30]    [32, 176, 30, 30]    479,820              True\n",
              "│    │    └─MBConv (6)                                       [32, 176, 30, 30]    [32, 176, 30, 30]    479,820              True\n",
              "│    │    └─MBConv (7)                                       [32, 176, 30, 30]    [32, 176, 30, 30]    479,820              True\n",
              "│    │    └─MBConv (8)                                       [32, 176, 30, 30]    [32, 176, 30, 30]    479,820              True\n",
              "│    │    └─MBConv (9)                                       [32, 176, 30, 30]    [32, 176, 30, 30]    479,820              True\n",
              "│    │    └─MBConv (10)                                      [32, 176, 30, 30]    [32, 176, 30, 30]    479,820              True\n",
              "│    │    └─MBConv (11)                                      [32, 176, 30, 30]    [32, 176, 30, 30]    479,820              True\n",
              "│    │    └─MBConv (12)                                      [32, 176, 30, 30]    [32, 176, 30, 30]    479,820              True\n",
              "│    │    └─MBConv (13)                                      [32, 176, 30, 30]    [32, 176, 30, 30]    479,820              True\n",
              "│    └─Sequential (6)                                        [32, 176, 30, 30]    [32, 304, 15, 15]    --                   True\n",
              "│    │    └─MBConv (0)                                       [32, 176, 30, 30]    [32, 304, 15, 15]    615,244              True\n",
              "│    │    └─MBConv (1)                                       [32, 304, 15, 15]    [32, 304, 15, 15]    1,412,460            True\n",
              "│    │    └─MBConv (2)                                       [32, 304, 15, 15]    [32, 304, 15, 15]    1,412,460            True\n",
              "│    │    └─MBConv (3)                                       [32, 304, 15, 15]    [32, 304, 15, 15]    1,412,460            True\n",
              "│    │    └─MBConv (4)                                       [32, 304, 15, 15]    [32, 304, 15, 15]    1,412,460            True\n",
              "│    │    └─MBConv (5)                                       [32, 304, 15, 15]    [32, 304, 15, 15]    1,412,460            True\n",
              "│    │    └─MBConv (6)                                       [32, 304, 15, 15]    [32, 304, 15, 15]    1,412,460            True\n",
              "│    │    └─MBConv (7)                                       [32, 304, 15, 15]    [32, 304, 15, 15]    1,412,460            True\n",
              "│    │    └─MBConv (8)                                       [32, 304, 15, 15]    [32, 304, 15, 15]    1,412,460            True\n",
              "│    │    └─MBConv (9)                                       [32, 304, 15, 15]    [32, 304, 15, 15]    1,412,460            True\n",
              "│    │    └─MBConv (10)                                      [32, 304, 15, 15]    [32, 304, 15, 15]    1,412,460            True\n",
              "│    │    └─MBConv (11)                                      [32, 304, 15, 15]    [32, 304, 15, 15]    1,412,460            True\n",
              "│    │    └─MBConv (12)                                      [32, 304, 15, 15]    [32, 304, 15, 15]    1,412,460            True\n",
              "│    │    └─MBConv (13)                                      [32, 304, 15, 15]    [32, 304, 15, 15]    1,412,460            True\n",
              "│    │    └─MBConv (14)                                      [32, 304, 15, 15]    [32, 304, 15, 15]    1,412,460            True\n",
              "│    │    └─MBConv (15)                                      [32, 304, 15, 15]    [32, 304, 15, 15]    1,412,460            True\n",
              "│    │    └─MBConv (16)                                      [32, 304, 15, 15]    [32, 304, 15, 15]    1,412,460            True\n",
              "│    │    └─MBConv (17)                                      [32, 304, 15, 15]    [32, 304, 15, 15]    1,412,460            True\n",
              "│    └─Sequential (7)                                        [32, 304, 15, 15]    [32, 512, 15, 15]    --                   True\n",
              "│    │    └─MBConv (0)                                       [32, 304, 15, 15]    [32, 512, 15, 15]    1,792,268            True\n",
              "│    │    └─MBConv (1)                                       [32, 512, 15, 15]    [32, 512, 15, 15]    3,976,320            True\n",
              "│    │    └─MBConv (2)                                       [32, 512, 15, 15]    [32, 512, 15, 15]    3,976,320            True\n",
              "│    │    └─MBConv (3)                                       [32, 512, 15, 15]    [32, 512, 15, 15]    3,976,320            True\n",
              "│    │    └─MBConv (4)                                       [32, 512, 15, 15]    [32, 512, 15, 15]    3,976,320            True\n",
              "│    └─Conv2dNormActivation (8)                              [32, 512, 15, 15]    [32, 1280, 15, 15]   --                   True\n",
              "│    │    └─Conv2d (0)                                       [32, 512, 15, 15]    [32, 1280, 15, 15]   655,360              True\n",
              "│    │    └─BatchNorm2d (1)                                  [32, 1280, 15, 15]   [32, 1280, 15, 15]   2,560                True\n",
              "│    │    └─SiLU (2)                                         [32, 1280, 15, 15]   [32, 1280, 15, 15]   --                   --\n",
              "├─AdaptiveAvgPool2d (avgpool)                                [32, 1280, 15, 15]   [32, 1280, 1, 1]     --                   --\n",
              "├─Sequential (classifier)                                    [32, 1280]           [32, 1000]           --                   True\n",
              "│    └─Dropout (0)                                           [32, 1280]           [32, 1280]           --                   --\n",
              "│    └─Linear (1)                                            [32, 1280]           [32, 1000]           1,281,000            True\n",
              "============================================================================================================================================\n",
              "Total params: 54,139,356\n",
              "Trainable params: 54,139,356\n",
              "Non-trainable params: 0\n",
              "Total mult-adds (G): 786.65\n",
              "============================================================================================================================================\n",
              "Input size (MB): 88.47\n",
              "Forward/backward pass size (MB): 45979.65\n",
              "Params size (MB): 216.56\n",
              "Estimated Total Size (MB): 46284.68\n",
              "============================================================================================================================================"
            ]
          },
          "metadata": {},
          "execution_count": 6
        }
      ]
    },
    {
      "cell_type": "markdown",
      "source": [],
      "metadata": {
        "id": "-kpJx8A-ffRn"
      }
    },
    {
      "cell_type": "code",
      "source": [
        "weights=torchvision.models.ResNet50_Weights.DEFAULT\n",
        "#Resnet50_transformer=weights.transforms\n",
        "resnet_50=torchvision.models.resnet50(weights=weights).to(device)"
      ],
      "metadata": {
        "id": "_qoHm2PwivDC"
      },
      "execution_count": 42,
      "outputs": []
    },
    {
      "cell_type": "code",
      "source": [
        "# Create Food101 training data transforms (only perform data augmentation on the training images)\n",
        "food101_train_transforms = torchvision.transforms.Compose([\n",
        "    torchvision.transforms.TrivialAugmentWide(),\n",
        "    torchvision.transforms.Resize(256,interpolation=torchvision.transforms.InterpolationMode.BILINEAR),\n",
        "    torchvision.transforms.CenterCrop(size=224),\n",
        "    torchvision.transforms.ToTensor(),\n",
        "    torchvision.transforms.Normalize(mean=[0.485, 0.456, 0.406],std=[0.229, 0.224, 0.225])\n",
        "\n",
        "])\n",
        "food101_test_transforms=torchvision.transforms.Compose([\n",
        "    #torchvision.transforms.TrivialAugmentWide(),\n",
        "    torchvision.transforms.Resize(256,interpolation=torchvision.transforms.InterpolationMode.BILINEAR),\n",
        "    torchvision.transforms.CenterCrop(size=224),\n",
        "    torchvision.transforms.ToTensor(),\n",
        "    torchvision.transforms.Normalize(mean=[0.485, 0.456, 0.406],std=[0.229, 0.224, 0.225])\n",
        "\n",
        "])"
      ],
      "metadata": {
        "id": "dOHbLq9jx4W7"
      },
      "execution_count": 43,
      "outputs": []
    },
    {
      "cell_type": "code",
      "source": [
        "from PIL import Image\n",
        "x=Image.open(\"/content/data/food-101/images/apple_pie/1005649.jpg\")"
      ],
      "metadata": {
        "id": "emrgNCCazlng"
      },
      "execution_count": 30,
      "outputs": []
    },
    {
      "cell_type": "code",
      "source": [
        "food101_train_transforms(x)"
      ],
      "metadata": {
        "colab": {
          "base_uri": "https://localhost:8080/"
        },
        "id": "0umVTfBEzUhh",
        "outputId": "a5fb68b0-84d3-4d0b-fcb4-6a616bcceee7"
      },
      "execution_count": 41,
      "outputs": [
        {
          "output_type": "execute_result",
          "data": {
            "text/plain": [
              "tensor([[[ 0.1254,  0.1083,  0.0741,  ..., -0.3883, -0.0287,  0.3309],\n",
              "         [ 0.4851,  0.5364,  0.4337,  ..., -0.2856, -0.2513, -0.0287],\n",
              "         [ 0.6049,  0.5364,  0.2967,  ...,  0.3481, -0.0801, -0.3369],\n",
              "         ...,\n",
              "         [-0.2171,  0.2967,  0.2796,  ..., -1.1760, -1.2103, -1.0733],\n",
              "         [ 0.0912,  0.3823,  0.1254,  ..., -0.7137, -0.9705, -1.0219],\n",
              "         [ 0.1768,  0.3994,  0.2282,  ..., -0.3027, -0.7479, -1.0562]],\n",
              "\n",
              "        [[ 0.2577,  0.2402,  0.2052,  ..., -0.3725, -0.0049,  0.3803],\n",
              "         [ 0.6254,  0.6779,  0.5728,  ..., -0.2675, -0.2325,  0.0126],\n",
              "         [ 0.7479,  0.6779,  0.4328,  ...,  0.3803, -0.0574, -0.2850],\n",
              "         ...,\n",
              "         [-0.0399,  0.4853,  0.4678,  ..., -1.1253, -1.1779, -1.0728],\n",
              "         [ 0.2402,  0.5553,  0.2752,  ..., -0.6352, -0.9153, -1.0203],\n",
              "         [ 0.3277,  0.5553,  0.3803,  ..., -0.1975, -0.6877, -1.0378]],\n",
              "\n",
              "        [[ 0.4265,  0.4091,  0.3742,  ..., -0.2184,  0.1476,  0.5136],\n",
              "         [ 0.7925,  0.8448,  0.7402,  ..., -0.1138, -0.0790,  0.1476],\n",
              "         [ 0.9145,  0.8448,  0.6008,  ...,  0.5311,  0.0953, -0.1661],\n",
              "         ...,\n",
              "         [ 0.0779,  0.6008,  0.5834,  ..., -0.8633, -0.9504, -0.8807],\n",
              "         [ 0.3568,  0.6705,  0.3916,  ..., -0.4101, -0.7238, -0.8458],\n",
              "         [ 0.4439,  0.6705,  0.4962,  ..., -0.0267, -0.5147, -0.8807]]])"
            ]
          },
          "metadata": {},
          "execution_count": 41
        }
      ]
    },
    {
      "cell_type": "code",
      "source": [
        "resnet_50.fc"
      ],
      "metadata": {
        "colab": {
          "base_uri": "https://localhost:8080/"
        },
        "id": "qXmIUZpqtdso",
        "outputId": "bc39e621-04b3-445b-d183-bc1f60008a5f"
      },
      "execution_count": 45,
      "outputs": [
        {
          "output_type": "execute_result",
          "data": {
            "text/plain": [
              "Linear(in_features=2048, out_features=1000, bias=True)"
            ]
          },
          "metadata": {},
          "execution_count": 45
        }
      ]
    },
    {
      "cell_type": "code",
      "source": [
        "for param in resnet_50.parameters():\n",
        "    param.requires_grad=False"
      ],
      "metadata": {
        "id": "d0rHMmpDsuZT"
      },
      "execution_count": 46,
      "outputs": []
    },
    {
      "cell_type": "code",
      "source": [
        "resnet_50.fc=torch.nn.Linear(in_features=2048,out_features=101)"
      ],
      "metadata": {
        "id": "vu0VrF4CtT6h"
      },
      "execution_count": 47,
      "outputs": []
    },
    {
      "cell_type": "code",
      "source": [
        "summary(model=resnet_50,\n",
        "        input_size=(32, 3, 224, 224), # make sure this is \"input_size\", not \"input_shape\"\n",
        "        # col_names=[\"input_size\"], # uncomment for smaller output\n",
        "        col_names=[\"input_size\", \"output_size\", \"num_params\", \"trainable\"],\n",
        "        col_width=20,\n",
        "        row_settings=[\"var_names\"])"
      ],
      "metadata": {
        "colab": {
          "base_uri": "https://localhost:8080/"
        },
        "id": "vrfjoQOUkJbr",
        "outputId": "52ce3347-290d-4b66-ecaf-a928468d438a"
      },
      "execution_count": 48,
      "outputs": [
        {
          "output_type": "execute_result",
          "data": {
            "text/plain": [
              "========================================================================================================================\n",
              "Layer (type (var_name))                  Input Shape          Output Shape         Param #              Trainable\n",
              "========================================================================================================================\n",
              "ResNet (ResNet)                          [32, 3, 224, 224]    [32, 101]            --                   Partial\n",
              "├─Conv2d (conv1)                         [32, 3, 224, 224]    [32, 64, 112, 112]   (9,408)              False\n",
              "├─BatchNorm2d (bn1)                      [32, 64, 112, 112]   [32, 64, 112, 112]   (128)                False\n",
              "├─ReLU (relu)                            [32, 64, 112, 112]   [32, 64, 112, 112]   --                   --\n",
              "├─MaxPool2d (maxpool)                    [32, 64, 112, 112]   [32, 64, 56, 56]     --                   --\n",
              "├─Sequential (layer1)                    [32, 64, 56, 56]     [32, 256, 56, 56]    --                   False\n",
              "│    └─Bottleneck (0)                    [32, 64, 56, 56]     [32, 256, 56, 56]    --                   False\n",
              "│    │    └─Conv2d (conv1)               [32, 64, 56, 56]     [32, 64, 56, 56]     (4,096)              False\n",
              "│    │    └─BatchNorm2d (bn1)            [32, 64, 56, 56]     [32, 64, 56, 56]     (128)                False\n",
              "│    │    └─ReLU (relu)                  [32, 64, 56, 56]     [32, 64, 56, 56]     --                   --\n",
              "│    │    └─Conv2d (conv2)               [32, 64, 56, 56]     [32, 64, 56, 56]     (36,864)             False\n",
              "│    │    └─BatchNorm2d (bn2)            [32, 64, 56, 56]     [32, 64, 56, 56]     (128)                False\n",
              "│    │    └─ReLU (relu)                  [32, 64, 56, 56]     [32, 64, 56, 56]     --                   --\n",
              "│    │    └─Conv2d (conv3)               [32, 64, 56, 56]     [32, 256, 56, 56]    (16,384)             False\n",
              "│    │    └─BatchNorm2d (bn3)            [32, 256, 56, 56]    [32, 256, 56, 56]    (512)                False\n",
              "│    │    └─Sequential (downsample)      [32, 64, 56, 56]     [32, 256, 56, 56]    (16,896)             False\n",
              "│    │    └─ReLU (relu)                  [32, 256, 56, 56]    [32, 256, 56, 56]    --                   --\n",
              "│    └─Bottleneck (1)                    [32, 256, 56, 56]    [32, 256, 56, 56]    --                   False\n",
              "│    │    └─Conv2d (conv1)               [32, 256, 56, 56]    [32, 64, 56, 56]     (16,384)             False\n",
              "│    │    └─BatchNorm2d (bn1)            [32, 64, 56, 56]     [32, 64, 56, 56]     (128)                False\n",
              "│    │    └─ReLU (relu)                  [32, 64, 56, 56]     [32, 64, 56, 56]     --                   --\n",
              "│    │    └─Conv2d (conv2)               [32, 64, 56, 56]     [32, 64, 56, 56]     (36,864)             False\n",
              "│    │    └─BatchNorm2d (bn2)            [32, 64, 56, 56]     [32, 64, 56, 56]     (128)                False\n",
              "│    │    └─ReLU (relu)                  [32, 64, 56, 56]     [32, 64, 56, 56]     --                   --\n",
              "│    │    └─Conv2d (conv3)               [32, 64, 56, 56]     [32, 256, 56, 56]    (16,384)             False\n",
              "│    │    └─BatchNorm2d (bn3)            [32, 256, 56, 56]    [32, 256, 56, 56]    (512)                False\n",
              "│    │    └─ReLU (relu)                  [32, 256, 56, 56]    [32, 256, 56, 56]    --                   --\n",
              "│    └─Bottleneck (2)                    [32, 256, 56, 56]    [32, 256, 56, 56]    --                   False\n",
              "│    │    └─Conv2d (conv1)               [32, 256, 56, 56]    [32, 64, 56, 56]     (16,384)             False\n",
              "│    │    └─BatchNorm2d (bn1)            [32, 64, 56, 56]     [32, 64, 56, 56]     (128)                False\n",
              "│    │    └─ReLU (relu)                  [32, 64, 56, 56]     [32, 64, 56, 56]     --                   --\n",
              "│    │    └─Conv2d (conv2)               [32, 64, 56, 56]     [32, 64, 56, 56]     (36,864)             False\n",
              "│    │    └─BatchNorm2d (bn2)            [32, 64, 56, 56]     [32, 64, 56, 56]     (128)                False\n",
              "│    │    └─ReLU (relu)                  [32, 64, 56, 56]     [32, 64, 56, 56]     --                   --\n",
              "│    │    └─Conv2d (conv3)               [32, 64, 56, 56]     [32, 256, 56, 56]    (16,384)             False\n",
              "│    │    └─BatchNorm2d (bn3)            [32, 256, 56, 56]    [32, 256, 56, 56]    (512)                False\n",
              "│    │    └─ReLU (relu)                  [32, 256, 56, 56]    [32, 256, 56, 56]    --                   --\n",
              "├─Sequential (layer2)                    [32, 256, 56, 56]    [32, 512, 28, 28]    --                   False\n",
              "│    └─Bottleneck (0)                    [32, 256, 56, 56]    [32, 512, 28, 28]    --                   False\n",
              "│    │    └─Conv2d (conv1)               [32, 256, 56, 56]    [32, 128, 56, 56]    (32,768)             False\n",
              "│    │    └─BatchNorm2d (bn1)            [32, 128, 56, 56]    [32, 128, 56, 56]    (256)                False\n",
              "│    │    └─ReLU (relu)                  [32, 128, 56, 56]    [32, 128, 56, 56]    --                   --\n",
              "│    │    └─Conv2d (conv2)               [32, 128, 56, 56]    [32, 128, 28, 28]    (147,456)            False\n",
              "│    │    └─BatchNorm2d (bn2)            [32, 128, 28, 28]    [32, 128, 28, 28]    (256)                False\n",
              "│    │    └─ReLU (relu)                  [32, 128, 28, 28]    [32, 128, 28, 28]    --                   --\n",
              "│    │    └─Conv2d (conv3)               [32, 128, 28, 28]    [32, 512, 28, 28]    (65,536)             False\n",
              "│    │    └─BatchNorm2d (bn3)            [32, 512, 28, 28]    [32, 512, 28, 28]    (1,024)              False\n",
              "│    │    └─Sequential (downsample)      [32, 256, 56, 56]    [32, 512, 28, 28]    (132,096)            False\n",
              "│    │    └─ReLU (relu)                  [32, 512, 28, 28]    [32, 512, 28, 28]    --                   --\n",
              "│    └─Bottleneck (1)                    [32, 512, 28, 28]    [32, 512, 28, 28]    --                   False\n",
              "│    │    └─Conv2d (conv1)               [32, 512, 28, 28]    [32, 128, 28, 28]    (65,536)             False\n",
              "│    │    └─BatchNorm2d (bn1)            [32, 128, 28, 28]    [32, 128, 28, 28]    (256)                False\n",
              "│    │    └─ReLU (relu)                  [32, 128, 28, 28]    [32, 128, 28, 28]    --                   --\n",
              "│    │    └─Conv2d (conv2)               [32, 128, 28, 28]    [32, 128, 28, 28]    (147,456)            False\n",
              "│    │    └─BatchNorm2d (bn2)            [32, 128, 28, 28]    [32, 128, 28, 28]    (256)                False\n",
              "│    │    └─ReLU (relu)                  [32, 128, 28, 28]    [32, 128, 28, 28]    --                   --\n",
              "│    │    └─Conv2d (conv3)               [32, 128, 28, 28]    [32, 512, 28, 28]    (65,536)             False\n",
              "│    │    └─BatchNorm2d (bn3)            [32, 512, 28, 28]    [32, 512, 28, 28]    (1,024)              False\n",
              "│    │    └─ReLU (relu)                  [32, 512, 28, 28]    [32, 512, 28, 28]    --                   --\n",
              "│    └─Bottleneck (2)                    [32, 512, 28, 28]    [32, 512, 28, 28]    --                   False\n",
              "│    │    └─Conv2d (conv1)               [32, 512, 28, 28]    [32, 128, 28, 28]    (65,536)             False\n",
              "│    │    └─BatchNorm2d (bn1)            [32, 128, 28, 28]    [32, 128, 28, 28]    (256)                False\n",
              "│    │    └─ReLU (relu)                  [32, 128, 28, 28]    [32, 128, 28, 28]    --                   --\n",
              "│    │    └─Conv2d (conv2)               [32, 128, 28, 28]    [32, 128, 28, 28]    (147,456)            False\n",
              "│    │    └─BatchNorm2d (bn2)            [32, 128, 28, 28]    [32, 128, 28, 28]    (256)                False\n",
              "│    │    └─ReLU (relu)                  [32, 128, 28, 28]    [32, 128, 28, 28]    --                   --\n",
              "│    │    └─Conv2d (conv3)               [32, 128, 28, 28]    [32, 512, 28, 28]    (65,536)             False\n",
              "│    │    └─BatchNorm2d (bn3)            [32, 512, 28, 28]    [32, 512, 28, 28]    (1,024)              False\n",
              "│    │    └─ReLU (relu)                  [32, 512, 28, 28]    [32, 512, 28, 28]    --                   --\n",
              "│    └─Bottleneck (3)                    [32, 512, 28, 28]    [32, 512, 28, 28]    --                   False\n",
              "│    │    └─Conv2d (conv1)               [32, 512, 28, 28]    [32, 128, 28, 28]    (65,536)             False\n",
              "│    │    └─BatchNorm2d (bn1)            [32, 128, 28, 28]    [32, 128, 28, 28]    (256)                False\n",
              "│    │    └─ReLU (relu)                  [32, 128, 28, 28]    [32, 128, 28, 28]    --                   --\n",
              "│    │    └─Conv2d (conv2)               [32, 128, 28, 28]    [32, 128, 28, 28]    (147,456)            False\n",
              "│    │    └─BatchNorm2d (bn2)            [32, 128, 28, 28]    [32, 128, 28, 28]    (256)                False\n",
              "│    │    └─ReLU (relu)                  [32, 128, 28, 28]    [32, 128, 28, 28]    --                   --\n",
              "│    │    └─Conv2d (conv3)               [32, 128, 28, 28]    [32, 512, 28, 28]    (65,536)             False\n",
              "│    │    └─BatchNorm2d (bn3)            [32, 512, 28, 28]    [32, 512, 28, 28]    (1,024)              False\n",
              "│    │    └─ReLU (relu)                  [32, 512, 28, 28]    [32, 512, 28, 28]    --                   --\n",
              "├─Sequential (layer3)                    [32, 512, 28, 28]    [32, 1024, 14, 14]   --                   False\n",
              "│    └─Bottleneck (0)                    [32, 512, 28, 28]    [32, 1024, 14, 14]   --                   False\n",
              "│    │    └─Conv2d (conv1)               [32, 512, 28, 28]    [32, 256, 28, 28]    (131,072)            False\n",
              "│    │    └─BatchNorm2d (bn1)            [32, 256, 28, 28]    [32, 256, 28, 28]    (512)                False\n",
              "│    │    └─ReLU (relu)                  [32, 256, 28, 28]    [32, 256, 28, 28]    --                   --\n",
              "│    │    └─Conv2d (conv2)               [32, 256, 28, 28]    [32, 256, 14, 14]    (589,824)            False\n",
              "│    │    └─BatchNorm2d (bn2)            [32, 256, 14, 14]    [32, 256, 14, 14]    (512)                False\n",
              "│    │    └─ReLU (relu)                  [32, 256, 14, 14]    [32, 256, 14, 14]    --                   --\n",
              "│    │    └─Conv2d (conv3)               [32, 256, 14, 14]    [32, 1024, 14, 14]   (262,144)            False\n",
              "│    │    └─BatchNorm2d (bn3)            [32, 1024, 14, 14]   [32, 1024, 14, 14]   (2,048)              False\n",
              "│    │    └─Sequential (downsample)      [32, 512, 28, 28]    [32, 1024, 14, 14]   (526,336)            False\n",
              "│    │    └─ReLU (relu)                  [32, 1024, 14, 14]   [32, 1024, 14, 14]   --                   --\n",
              "│    └─Bottleneck (1)                    [32, 1024, 14, 14]   [32, 1024, 14, 14]   --                   False\n",
              "│    │    └─Conv2d (conv1)               [32, 1024, 14, 14]   [32, 256, 14, 14]    (262,144)            False\n",
              "│    │    └─BatchNorm2d (bn1)            [32, 256, 14, 14]    [32, 256, 14, 14]    (512)                False\n",
              "│    │    └─ReLU (relu)                  [32, 256, 14, 14]    [32, 256, 14, 14]    --                   --\n",
              "│    │    └─Conv2d (conv2)               [32, 256, 14, 14]    [32, 256, 14, 14]    (589,824)            False\n",
              "│    │    └─BatchNorm2d (bn2)            [32, 256, 14, 14]    [32, 256, 14, 14]    (512)                False\n",
              "│    │    └─ReLU (relu)                  [32, 256, 14, 14]    [32, 256, 14, 14]    --                   --\n",
              "│    │    └─Conv2d (conv3)               [32, 256, 14, 14]    [32, 1024, 14, 14]   (262,144)            False\n",
              "│    │    └─BatchNorm2d (bn3)            [32, 1024, 14, 14]   [32, 1024, 14, 14]   (2,048)              False\n",
              "│    │    └─ReLU (relu)                  [32, 1024, 14, 14]   [32, 1024, 14, 14]   --                   --\n",
              "│    └─Bottleneck (2)                    [32, 1024, 14, 14]   [32, 1024, 14, 14]   --                   False\n",
              "│    │    └─Conv2d (conv1)               [32, 1024, 14, 14]   [32, 256, 14, 14]    (262,144)            False\n",
              "│    │    └─BatchNorm2d (bn1)            [32, 256, 14, 14]    [32, 256, 14, 14]    (512)                False\n",
              "│    │    └─ReLU (relu)                  [32, 256, 14, 14]    [32, 256, 14, 14]    --                   --\n",
              "│    │    └─Conv2d (conv2)               [32, 256, 14, 14]    [32, 256, 14, 14]    (589,824)            False\n",
              "│    │    └─BatchNorm2d (bn2)            [32, 256, 14, 14]    [32, 256, 14, 14]    (512)                False\n",
              "│    │    └─ReLU (relu)                  [32, 256, 14, 14]    [32, 256, 14, 14]    --                   --\n",
              "│    │    └─Conv2d (conv3)               [32, 256, 14, 14]    [32, 1024, 14, 14]   (262,144)            False\n",
              "│    │    └─BatchNorm2d (bn3)            [32, 1024, 14, 14]   [32, 1024, 14, 14]   (2,048)              False\n",
              "│    │    └─ReLU (relu)                  [32, 1024, 14, 14]   [32, 1024, 14, 14]   --                   --\n",
              "│    └─Bottleneck (3)                    [32, 1024, 14, 14]   [32, 1024, 14, 14]   --                   False\n",
              "│    │    └─Conv2d (conv1)               [32, 1024, 14, 14]   [32, 256, 14, 14]    (262,144)            False\n",
              "│    │    └─BatchNorm2d (bn1)            [32, 256, 14, 14]    [32, 256, 14, 14]    (512)                False\n",
              "│    │    └─ReLU (relu)                  [32, 256, 14, 14]    [32, 256, 14, 14]    --                   --\n",
              "│    │    └─Conv2d (conv2)               [32, 256, 14, 14]    [32, 256, 14, 14]    (589,824)            False\n",
              "│    │    └─BatchNorm2d (bn2)            [32, 256, 14, 14]    [32, 256, 14, 14]    (512)                False\n",
              "│    │    └─ReLU (relu)                  [32, 256, 14, 14]    [32, 256, 14, 14]    --                   --\n",
              "│    │    └─Conv2d (conv3)               [32, 256, 14, 14]    [32, 1024, 14, 14]   (262,144)            False\n",
              "│    │    └─BatchNorm2d (bn3)            [32, 1024, 14, 14]   [32, 1024, 14, 14]   (2,048)              False\n",
              "│    │    └─ReLU (relu)                  [32, 1024, 14, 14]   [32, 1024, 14, 14]   --                   --\n",
              "│    └─Bottleneck (4)                    [32, 1024, 14, 14]   [32, 1024, 14, 14]   --                   False\n",
              "│    │    └─Conv2d (conv1)               [32, 1024, 14, 14]   [32, 256, 14, 14]    (262,144)            False\n",
              "│    │    └─BatchNorm2d (bn1)            [32, 256, 14, 14]    [32, 256, 14, 14]    (512)                False\n",
              "│    │    └─ReLU (relu)                  [32, 256, 14, 14]    [32, 256, 14, 14]    --                   --\n",
              "│    │    └─Conv2d (conv2)               [32, 256, 14, 14]    [32, 256, 14, 14]    (589,824)            False\n",
              "│    │    └─BatchNorm2d (bn2)            [32, 256, 14, 14]    [32, 256, 14, 14]    (512)                False\n",
              "│    │    └─ReLU (relu)                  [32, 256, 14, 14]    [32, 256, 14, 14]    --                   --\n",
              "│    │    └─Conv2d (conv3)               [32, 256, 14, 14]    [32, 1024, 14, 14]   (262,144)            False\n",
              "│    │    └─BatchNorm2d (bn3)            [32, 1024, 14, 14]   [32, 1024, 14, 14]   (2,048)              False\n",
              "│    │    └─ReLU (relu)                  [32, 1024, 14, 14]   [32, 1024, 14, 14]   --                   --\n",
              "│    └─Bottleneck (5)                    [32, 1024, 14, 14]   [32, 1024, 14, 14]   --                   False\n",
              "│    │    └─Conv2d (conv1)               [32, 1024, 14, 14]   [32, 256, 14, 14]    (262,144)            False\n",
              "│    │    └─BatchNorm2d (bn1)            [32, 256, 14, 14]    [32, 256, 14, 14]    (512)                False\n",
              "│    │    └─ReLU (relu)                  [32, 256, 14, 14]    [32, 256, 14, 14]    --                   --\n",
              "│    │    └─Conv2d (conv2)               [32, 256, 14, 14]    [32, 256, 14, 14]    (589,824)            False\n",
              "│    │    └─BatchNorm2d (bn2)            [32, 256, 14, 14]    [32, 256, 14, 14]    (512)                False\n",
              "│    │    └─ReLU (relu)                  [32, 256, 14, 14]    [32, 256, 14, 14]    --                   --\n",
              "│    │    └─Conv2d (conv3)               [32, 256, 14, 14]    [32, 1024, 14, 14]   (262,144)            False\n",
              "│    │    └─BatchNorm2d (bn3)            [32, 1024, 14, 14]   [32, 1024, 14, 14]   (2,048)              False\n",
              "│    │    └─ReLU (relu)                  [32, 1024, 14, 14]   [32, 1024, 14, 14]   --                   --\n",
              "├─Sequential (layer4)                    [32, 1024, 14, 14]   [32, 2048, 7, 7]     --                   False\n",
              "│    └─Bottleneck (0)                    [32, 1024, 14, 14]   [32, 2048, 7, 7]     --                   False\n",
              "│    │    └─Conv2d (conv1)               [32, 1024, 14, 14]   [32, 512, 14, 14]    (524,288)            False\n",
              "│    │    └─BatchNorm2d (bn1)            [32, 512, 14, 14]    [32, 512, 14, 14]    (1,024)              False\n",
              "│    │    └─ReLU (relu)                  [32, 512, 14, 14]    [32, 512, 14, 14]    --                   --\n",
              "│    │    └─Conv2d (conv2)               [32, 512, 14, 14]    [32, 512, 7, 7]      (2,359,296)          False\n",
              "│    │    └─BatchNorm2d (bn2)            [32, 512, 7, 7]      [32, 512, 7, 7]      (1,024)              False\n",
              "│    │    └─ReLU (relu)                  [32, 512, 7, 7]      [32, 512, 7, 7]      --                   --\n",
              "│    │    └─Conv2d (conv3)               [32, 512, 7, 7]      [32, 2048, 7, 7]     (1,048,576)          False\n",
              "│    │    └─BatchNorm2d (bn3)            [32, 2048, 7, 7]     [32, 2048, 7, 7]     (4,096)              False\n",
              "│    │    └─Sequential (downsample)      [32, 1024, 14, 14]   [32, 2048, 7, 7]     (2,101,248)          False\n",
              "│    │    └─ReLU (relu)                  [32, 2048, 7, 7]     [32, 2048, 7, 7]     --                   --\n",
              "│    └─Bottleneck (1)                    [32, 2048, 7, 7]     [32, 2048, 7, 7]     --                   False\n",
              "│    │    └─Conv2d (conv1)               [32, 2048, 7, 7]     [32, 512, 7, 7]      (1,048,576)          False\n",
              "│    │    └─BatchNorm2d (bn1)            [32, 512, 7, 7]      [32, 512, 7, 7]      (1,024)              False\n",
              "│    │    └─ReLU (relu)                  [32, 512, 7, 7]      [32, 512, 7, 7]      --                   --\n",
              "│    │    └─Conv2d (conv2)               [32, 512, 7, 7]      [32, 512, 7, 7]      (2,359,296)          False\n",
              "│    │    └─BatchNorm2d (bn2)            [32, 512, 7, 7]      [32, 512, 7, 7]      (1,024)              False\n",
              "│    │    └─ReLU (relu)                  [32, 512, 7, 7]      [32, 512, 7, 7]      --                   --\n",
              "│    │    └─Conv2d (conv3)               [32, 512, 7, 7]      [32, 2048, 7, 7]     (1,048,576)          False\n",
              "│    │    └─BatchNorm2d (bn3)            [32, 2048, 7, 7]     [32, 2048, 7, 7]     (4,096)              False\n",
              "│    │    └─ReLU (relu)                  [32, 2048, 7, 7]     [32, 2048, 7, 7]     --                   --\n",
              "│    └─Bottleneck (2)                    [32, 2048, 7, 7]     [32, 2048, 7, 7]     --                   False\n",
              "│    │    └─Conv2d (conv1)               [32, 2048, 7, 7]     [32, 512, 7, 7]      (1,048,576)          False\n",
              "│    │    └─BatchNorm2d (bn1)            [32, 512, 7, 7]      [32, 512, 7, 7]      (1,024)              False\n",
              "│    │    └─ReLU (relu)                  [32, 512, 7, 7]      [32, 512, 7, 7]      --                   --\n",
              "│    │    └─Conv2d (conv2)               [32, 512, 7, 7]      [32, 512, 7, 7]      (2,359,296)          False\n",
              "│    │    └─BatchNorm2d (bn2)            [32, 512, 7, 7]      [32, 512, 7, 7]      (1,024)              False\n",
              "│    │    └─ReLU (relu)                  [32, 512, 7, 7]      [32, 512, 7, 7]      --                   --\n",
              "│    │    └─Conv2d (conv3)               [32, 512, 7, 7]      [32, 2048, 7, 7]     (1,048,576)          False\n",
              "│    │    └─BatchNorm2d (bn3)            [32, 2048, 7, 7]     [32, 2048, 7, 7]     (4,096)              False\n",
              "│    │    └─ReLU (relu)                  [32, 2048, 7, 7]     [32, 2048, 7, 7]     --                   --\n",
              "├─AdaptiveAvgPool2d (avgpool)            [32, 2048, 7, 7]     [32, 2048, 1, 1]     --                   --\n",
              "├─Linear (fc)                            [32, 2048]           [32, 101]            206,949              True\n",
              "========================================================================================================================\n",
              "Total params: 23,714,981\n",
              "Trainable params: 206,949\n",
              "Non-trainable params: 23,508,032\n",
              "Total mult-adds (G): 130.80\n",
              "========================================================================================================================\n",
              "Input size (MB): 19.27\n",
              "Forward/backward pass size (MB): 5690.39\n",
              "Params size (MB): 94.86\n",
              "Estimated Total Size (MB): 5804.51\n",
              "========================================================================================================================"
            ]
          },
          "metadata": {},
          "execution_count": 48
        }
      ]
    },
    {
      "cell_type": "code",
      "source": [
        "data_dir=Path('data')\n",
        "train_dir=torchvision.datasets.Food101(root=data_dir,split='train',transform=food101_train_transforms,download=True)\n",
        "test_dir=torchvision.datasets.Food101(root=data_dir,split='test',transform=food101_test_transforms,download=True)"
      ],
      "metadata": {
        "id": "PJmGQhk5kNqm"
      },
      "execution_count": 49,
      "outputs": []
    },
    {
      "cell_type": "code",
      "source": [
        "class_names=train_dir.classes\n",
        "len(class_names)"
      ],
      "metadata": {
        "colab": {
          "base_uri": "https://localhost:8080/"
        },
        "id": "1XjV-ONAk1w9",
        "outputId": "9c310f88-f6bf-495a-b750-190f74f71e34"
      },
      "execution_count": 50,
      "outputs": [
        {
          "output_type": "execute_result",
          "data": {
            "text/plain": [
              "101"
            ]
          },
          "metadata": {},
          "execution_count": 50
        }
      ]
    },
    {
      "cell_type": "code",
      "source": [
        "paths=list(glob.glob(\"/content/data/food-101/images/apple_pie/*.jpg\"))\n",
        "len(paths)"
      ],
      "metadata": {
        "colab": {
          "base_uri": "https://localhost:8080/"
        },
        "id": "5JihvuG0mJsZ",
        "outputId": "0924a862-5f33-4724-ebd8-8d5cd19fb27f"
      },
      "execution_count": 51,
      "outputs": [
        {
          "output_type": "execute_result",
          "data": {
            "text/plain": [
              "1000"
            ]
          },
          "metadata": {},
          "execution_count": 51
        }
      ]
    },
    {
      "cell_type": "code",
      "source": [
        "def split_dataset(dataset:torchvision.datasets, split_size:float=0.2, seed:int=42):\n",
        "    \"\"\"Randomly splits a given dataset into two proportions based on split_size and seed.\n",
        "\n",
        "    Args:\n",
        "        dataset (torchvision.datasets): A PyTorch Dataset, typically one from torchvision.datasets.\n",
        "        split_size (float, optional): How much of the dataset should be split?\n",
        "            E.g. split_size=0.2 means there will be a 20% split and an 80% split. Defaults to 0.2.\n",
        "        seed (int, optional): Seed for random generator. Defaults to 42.\n",
        "\n",
        "    Returns:\n",
        "        tuple: (random_split_1, random_split_2) where random_split_1 is of size split_size*len(dataset) and\n",
        "            random_split_2 is of size (1-split_size)*len(dataset).\n",
        "    \"\"\"\n",
        "    # Create split lengths based on original dataset length\n",
        "    length_1 = int(len(dataset) * split_size) # desired length\n",
        "    length_2 = len(dataset) - length_1 # remaining length\n",
        "\n",
        "    # Print out info\n",
        "    print(f\"[INFO] Splitting dataset of length {len(dataset)} into splits of size: {length_1} ({int(split_size*100)}%), {length_2} ({int((1-split_size)*100)}%)\")\n",
        "\n",
        "    # Create splits with given random seed\n",
        "    random_split_1, random_split_2 = torch.utils.data.random_split(dataset,\n",
        "                                                                   lengths=[length_1, length_2],\n",
        "                                                                   generator=torch.manual_seed(seed)) # set the random seed for reproducible splits\n",
        "    return random_split_1, random_split_2"
      ],
      "metadata": {
        "id": "7UYeNrVSnCez"
      },
      "execution_count": 52,
      "outputs": []
    },
    {
      "cell_type": "code",
      "source": [
        "train_data_half,_=split_dataset(dataset=train_dir,split_size=0.4)\n",
        "test_data_half,_=split_dataset(dataset=test_dir,split_size=0.4)\n"
      ],
      "metadata": {
        "colab": {
          "base_uri": "https://localhost:8080/"
        },
        "id": "C4Cy7J9EowS0",
        "outputId": "5050dc41-6175-47f3-de2d-775257d57306"
      },
      "execution_count": 53,
      "outputs": [
        {
          "output_type": "stream",
          "name": "stdout",
          "text": [
            "[INFO] Splitting dataset of length 75750 into splits of size: 30300 (40%), 45450 (60%)\n",
            "[INFO] Splitting dataset of length 25250 into splits of size: 10100 (40%), 15150 (60%)\n"
          ]
        }
      ]
    },
    {
      "cell_type": "code",
      "source": [
        "train_dataloader=torch.utils.data.DataLoader(dataset=train_data_half,batch_size=32,shuffle=True,)\n",
        "test_dataloader=torch.utils.data.DataLoader(dataset=test_data_half,batch_size=32,shuffle=False)"
      ],
      "metadata": {
        "id": "QsVTMJmZpVTb"
      },
      "execution_count": 54,
      "outputs": []
    },
    {
      "cell_type": "code",
      "source": [
        "from going_modular.going_modular import engine\n",
        "\n",
        "# Setup optimizer\n",
        "optimizer = torch.optim.Adam(params=resnet_50.parameters(),\n",
        "                             lr=1e-3)\n",
        "\n",
        "# Setup loss function\n",
        "loss_fn = torch.nn.CrossEntropyLoss(label_smoothing=0.1) # throw in a little label smoothing because so many classes\n",
        "\n",
        "# Want to beat original Food101 paper with 20% of data, need 56.4%+ acc on test dataset\n",
        "torch.manual_seed(42)\n",
        "torch.cuda.manual_seed(42)\n",
        "resnet50_results = engine.train(model=resnet_50,\n",
        "                                        train_dataloader=train_dataloader,\n",
        "                                        test_dataloader=test_dataloader,\n",
        "                                        optimizer=optimizer,\n",
        "                                        loss_fn=loss_fn,\n",
        "                                        epochs=10,\n",
        "                                        device=device)"
      ],
      "metadata": {
        "colab": {
          "base_uri": "https://localhost:8080/",
          "height": 223,
          "referenced_widgets": [
            "3298a0516c0049c89f37301d49167820",
            "98baac3854f84a35a2569ee1c70dee41",
            "ddf57407385540f7b1406b3a6a457478",
            "f28661e2308d432c99ee3ac11f793ee7",
            "317093c93165461a96e55a2721d8d5b5",
            "7536a22f115746d7a137f41fd2d23187",
            "67e92d20a2bd4675a05e4d1f4d8fe5d1",
            "c0763d87c922403aadded18e0e45fd89",
            "737f81ec3c484ac3b3153784242aa834",
            "11ed21f9db7e4ebfbed8adead9fa57d4",
            "015192130f744adf9e47ffc3a99d697c"
          ]
        },
        "id": "j0gjuM5wqjsX",
        "outputId": "96ed16eb-2ad6-47f3-cfcc-2e4117fc057a"
      },
      "execution_count": 56,
      "outputs": [
        {
          "output_type": "display_data",
          "data": {
            "text/plain": [
              "  0%|          | 0/10 [00:00<?, ?it/s]"
            ],
            "application/vnd.jupyter.widget-view+json": {
              "version_major": 2,
              "version_minor": 0,
              "model_id": "3298a0516c0049c89f37301d49167820"
            }
          },
          "metadata": {}
        },
        {
          "output_type": "stream",
          "name": "stdout",
          "text": [
            "Epoch: 1 | train_loss: 3.2255 | train_acc: 0.3730 | test_loss: 2.4349 | test_acc: 0.5627\n",
            "Epoch: 2 | train_loss: 2.4947 | train_acc: 0.5402 | test_loss: 2.2084 | test_acc: 0.6126\n",
            "Epoch: 3 | train_loss: 2.2859 | train_acc: 0.5962 | test_loss: 2.1308 | test_acc: 0.6276\n",
            "Epoch: 4 | train_loss: 2.1620 | train_acc: 0.6300 | test_loss: 2.0894 | test_acc: 0.6385\n",
            "Epoch: 5 | train_loss: 2.0838 | train_acc: 0.6519 | test_loss: 2.0781 | test_acc: 0.6426\n",
            "Epoch: 6 | train_loss: 2.0234 | train_acc: 0.6682 | test_loss: 2.0626 | test_acc: 0.6459\n",
            "Epoch: 7 | train_loss: 1.9736 | train_acc: 0.6826 | test_loss: 2.0555 | test_acc: 0.6467\n",
            "Epoch: 8 | train_loss: 1.9345 | train_acc: 0.6974 | test_loss: 2.0773 | test_acc: 0.6430\n",
            "Epoch: 9 | train_loss: 1.9083 | train_acc: 0.7038 | test_loss: 2.0552 | test_acc: 0.6483\n",
            "Epoch: 10 | train_loss: 1.8769 | train_acc: 0.7157 | test_loss: 2.0585 | test_acc: 0.6494\n"
          ]
        }
      ]
    },
    {
      "cell_type": "code",
      "source": [
        "from helper_functions import plot_loss_curves\n",
        "\n",
        "# Check out the loss curves for FoodVision Big\n",
        "plot_loss_curves(resnet50_results)"
      ],
      "metadata": {
        "colab": {
          "base_uri": "https://localhost:8080/",
          "height": 641
        },
        "id": "bgU5rtnkuBh5",
        "outputId": "038e4257-2677-43ba-a032-ddbd2b5c5d11"
      },
      "execution_count": 59,
      "outputs": [
        {
          "output_type": "display_data",
          "data": {
            "text/plain": [
              "<Figure size 1500x700 with 2 Axes>"
            ],
            "image/png": "[encoded data removed]"
          },
          "metadata": {}
        }
      ]
    },
    {
      "cell_type": "code",
      "source": [
        "save_model_path=Path(\"models\")\n",
        "save_model_path.mkdir(parents=True,exist_ok=True)"
      ],
      "metadata": {
        "id": "RRdBNmIbumVw"
      },
      "execution_count": 60,
      "outputs": []
    },
    {
      "cell_type": "code",
      "source": [
        "from going_modular.going_modular import utils\n",
        "\n",
        "# Create a model path\n",
        "resnet_50_model_path = \"pretrained_resnet50_feature_extractor_food101_40_percent.pth\"\n",
        "\n",
        "# Save FoodVision Big model\n",
        "utils.save_model(model=resnet_50,\n",
        "                 target_dir=\"models\",\n",
        "                 model_name=resnet_50_model_path)"
      ],
      "metadata": {
        "colab": {
          "base_uri": "https://localhost:8080/"
        },
        "id": "0ZjOGz2euRHt",
        "outputId": "2f0ea018-e716-48b2-e065-ed33f563efc5"
      },
      "execution_count": 63,
      "outputs": [
        {
          "output_type": "stream",
          "name": "stdout",
          "text": [
            "[INFO] Saving model to: models/pretrained_resnet50_feature_extractor_food101_40_percent.pth\n"
          ]
        }
      ]
    },
    {
      "cell_type": "code",
      "source": [],
      "metadata": {
        "id": "zkOBe31sSU0V"
      },
      "execution_count": 70,
      "outputs": []
    }
  ]
}